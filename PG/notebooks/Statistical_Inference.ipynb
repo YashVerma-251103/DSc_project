{
 "cells": [
  {
   "cell_type": "code",
   "execution_count": 1,
   "id": "0fe32a2b",
   "metadata": {},
   "outputs": [],
   "source": [
    "import pandas as pd\n",
    "import numpy as np\n",
    "from scipy.stats import mannwhitneyu, kruskal, levene, chi2_contingency, spearmanr"
   ]
  },
  {
   "cell_type": "code",
   "execution_count": 2,
   "id": "ee3e11dd",
   "metadata": {},
   "outputs": [],
   "source": [
    "# Load cleaned dataset\n",
    "df = pd.read_csv('../outputs/cleaned_data.csv', low_memory=False)\n",
    "\n",
    "# 1) Normalize column names (strip/collapse spaces)\n",
    "df.columns = [(\" \".join(str(c).split())).strip() for c in df.columns]"
   ]
  },
  {
   "cell_type": "code",
   "execution_count": 3,
   "id": "766484a0",
   "metadata": {},
   "outputs": [],
   "source": [
    "# 2) Ensure label and Attack_Binary exist\n",
    "label_col = None\n",
    "for c in df.columns:\n",
    "    if c.lower().strip() in ('label','class','attack','attack_label'):\n",
    "        label_col = c\n",
    "        break\n",
    "if label_col is None:\n",
    "    # fallback: try to auto-detect a column with BENIGN in sample\n",
    "    for c in df.columns:\n",
    "        if df[c].dtype == object:\n",
    "            s = df[c].dropna().astype(str).str.upper().head(200)\n",
    "            if any('BENIGN' in v for v in s):\n",
    "                label_col = c\n",
    "                break\n",
    "if label_col is None:\n",
    "    raise RuntimeError(\"Label column not found. Edit notebook to set label_col manually.\")\n",
    "# normalize label values\n",
    "df[label_col] = df[label_col].astype(str).str.strip().str.upper()\n",
    "if 'Attack_Binary' not in df.columns:\n",
    "    df['Attack_Binary'] = df[label_col].apply(lambda x: 'BENIGN' if 'BENIGN' in str(x).upper() else 'ATTACK')"
   ]
  },
  {
   "cell_type": "code",
   "execution_count": 4,
   "id": "4156df80",
   "metadata": {},
   "outputs": [],
   "source": [
    "# 3) Coerce needed numeric columns (edit the list if your dataset uses different names)\n",
    "features = ['Flow Duration', 'Total Fwd Packets', 'Total Backward Packets',\n",
    "            'Flow Bytes/s', 'Flow Packets/s']\n",
    "for f in features:\n",
    "    if f in df.columns:\n",
    "        df[f] = pd.to_numeric(df[f], errors='coerce')"
   ]
  },
  {
   "cell_type": "code",
   "execution_count": 5,
   "id": "fe1ec0a7",
   "metadata": {},
   "outputs": [],
   "source": [
    "# 4) Helper: safe tests that skip when missing / insufficient data\n",
    "def safe_mannwhitney(col):\n",
    "    if col not in df.columns:\n",
    "        return None, None, 0, 0\n",
    "    a = df[df['Attack_Binary']=='BENIGN'][col].dropna().astype(float)\n",
    "    b = df[df['Attack_Binary']=='ATTACK'][col].dropna().astype(float)\n",
    "    if len(a) < 10 or len(b) < 10:\n",
    "        return None, None, len(a), len(b)\n",
    "    stat, p = mannwhitneyu(a, b, alternative='two-sided')\n",
    "    return stat, p, len(a), len(b)\n",
    "\n",
    "def safe_kruskal(col):\n",
    "    if col not in df.columns or label_col not in df.columns:\n",
    "        return None, None\n",
    "    groups = [g[col].dropna().astype(float) for _, g in df.groupby(label_col) if len(g[col].dropna()) >= 30]\n",
    "    if len(groups) < 2:\n",
    "        return None, None\n",
    "    stat, p = kruskal(*groups)\n",
    "    return stat, p\n",
    "\n",
    "# 5) Run Hypotheses\n",
    "results = []"
   ]
  },
  {
   "cell_type": "code",
   "execution_count": 6,
   "id": "2769a1b6",
   "metadata": {},
   "outputs": [],
   "source": [
    "# H1: Flow Duration (Benign vs Attack)\n",
    "stat, p, na, nb = safe_mannwhitney('Flow Duration')\n",
    "results.append(['H1', 'Flow Duration difference', 'Mann-Whitney U', 'Flow Duration', stat, p, na, nb])"
   ]
  },
  {
   "cell_type": "code",
   "execution_count": 7,
   "id": "7c5f8baa",
   "metadata": {},
   "outputs": [],
   "source": [
    "# H2: Packets per flow differ between attack types (Kruskal-Wallis)\n",
    "stat2, p2 = safe_kruskal('Total Fwd Packets')\n",
    "results.append(['H2', 'Packets per flow by attack type', 'Kruskal-Wallis', 'Total Fwd Packets', stat2, p2, None, None])"
   ]
  },
  {
   "cell_type": "code",
   "execution_count": 8,
   "id": "84791b54",
   "metadata": {},
   "outputs": [],
   "source": [
    "# H3: Bytes per second variance differs (Levene)\n",
    "if 'Flow Bytes/s' in df.columns:\n",
    "    a = df[df['Attack_Binary']=='BENIGN']['Flow Bytes/s'].dropna().astype(float)\n",
    "    b = df[df['Attack_Binary']=='ATTACK']['Flow Bytes/s'].dropna().astype(float)\n",
    "    if len(a) >= 10 and len(b) >= 10:\n",
    "        stat3, p3 = levene(a, b)\n",
    "        results.append(['H3', 'Variance in Bytes/s', 'Levene', 'Flow Bytes/s', stat3, p3, len(a), len(b)])\n",
    "    else:\n",
    "        results.append(['H3', 'Variance in Bytes/s', 'Levene', 'Flow Bytes/s', None, None, len(a), len(b)])\n",
    "else:\n",
    "    results.append(['H3', 'Variance in Bytes/s', 'Levene', 'Flow Bytes/s', None, None, 0, 0])"
   ]
  },
  {
   "cell_type": "code",
   "execution_count": 9,
   "id": "684ebb49",
   "metadata": {},
   "outputs": [],
   "source": [
    "# H4: Protocol associated with attack likelihood (Chi-square)\n",
    "if 'Protocol' in df.columns:\n",
    "    try:\n",
    "        cont = pd.crosstab(df['Protocol'].fillna('UNKNOWN'), df['Attack_Binary'])\n",
    "        stat4, p4, dof, expected = chi2_contingency(cont)\n",
    "        results.append(['H4', 'Protocol vs Attack Relation', 'Chi-Square', 'Protocol', stat4, p4, None, None])\n",
    "    except Exception as e:\n",
    "        results.append(['H4', 'Protocol vs Attack Relation', 'Chi-Square', 'Protocol', None, str(e), None, None])\n",
    "else:\n",
    "    results.append(['H4', 'Protocol vs Attack Relation', 'Chi-Square', 'Protocol', None, None, None, None])"
   ]
  },
  {
   "cell_type": "code",
   "execution_count": 10,
   "id": "06cbfeb3",
   "metadata": {},
   "outputs": [],
   "source": [
    "# H5: Spearman correlation between features and Attack presence\n",
    "# ensure numeric attack column\n",
    "df['_attack_num'] = df['Attack_Binary'].map({'BENIGN':0, 'ATTACK':1})\n",
    "corr_series = {}\n",
    "for f in features:\n",
    "    if f in df.columns:\n",
    "        valid = df[[f, '_attack_num']].dropna()\n",
    "        if len(valid) >= 50:\n",
    "            corr, p_corr = spearmanr(valid[f], valid['_attack_num'])\n",
    "            corr_series[f] = (float(corr), float(p_corr), len(valid))\n",
    "        else:\n",
    "            corr_series[f] = (None, None, len(valid))\n",
    "    else:\n",
    "        corr_series[f] = (None, None, 0)"
   ]
  },
  {
   "cell_type": "code",
   "execution_count": 11,
   "id": "30772875",
   "metadata": {},
   "outputs": [
    {
     "name": "stdout",
     "output_type": "stream",
     "text": [
      "Hypothesis tests saved to ../outputs/test_results.csv\n",
      "  Hypothesis                      Description            Test  \\\n",
      "0         H1         Flow Duration difference  Mann-Whitney U   \n",
      "1         H2  Packets per flow by attack type  Kruskal-Wallis   \n",
      "2         H3              Variance in Bytes/s          Levene   \n",
      "3         H4      Protocol vs Attack Relation      Chi-Square   \n",
      "\n",
      "              Column     Statistic        p-value         nA        nB  \\\n",
      "0      Flow Duration  3.011834e+11   0.000000e+00  2096484.0  425878.0   \n",
      "1  Total Fwd Packets  3.968631e+05   0.000000e+00        NaN       NaN   \n",
      "2       Flow Bytes/s  1.235430e+03  1.416549e-270  2096484.0  425878.0   \n",
      "3           Protocol           NaN            NaN        NaN       NaN   \n",
      "\n",
      "         Inference  \n",
      "0      Significant  \n",
      "1      Significant  \n",
      "2      Significant  \n",
      "3  Not Significant  \n",
      "\n",
      "Spearman correlations saved to ../outputs/feature_attack_correlation.csv\n"
     ]
    }
   ],
   "source": [
    "# 6) Save and report\n",
    "res_df = pd.DataFrame(results, columns=['Hypothesis','Description','Test','Column','Statistic','p-value','nA','nB'])\n",
    "# Inference column: only if p-value numeric\n",
    "def infer(p):\n",
    "    try:\n",
    "        return 'Significant' if float(p) < 0.05 else 'Not Significant'\n",
    "    except:\n",
    "        return 'Not Tested/Insufficient Data'\n",
    "res_df['Inference'] = res_df['p-value'].apply(infer)\n",
    "\n",
    "res_df.to_csv('../outputs/test_results.csv', index=False)\n",
    "pd.DataFrame.from_dict(corr_series, orient='index', columns=['Spearman_corr','p-value','n']).to_csv('../outputs/feature_attack_correlation.csv')\n",
    "\n",
    "print(\"Hypothesis tests saved to ../outputs/test_results.csv\")\n",
    "print(res_df)\n",
    "print(\"\\nSpearman correlations saved to ../outputs/feature_attack_correlation.csv\")\n"
   ]
  }
 ],
 "metadata": {
  "kernelspec": {
   "display_name": "dsc",
   "language": "python",
   "name": "python3"
  },
  "language_info": {
   "codemirror_mode": {
    "name": "ipython",
    "version": 3
   },
   "file_extension": ".py",
   "mimetype": "text/x-python",
   "name": "python",
   "nbconvert_exporter": "python",
   "pygments_lexer": "ipython3",
   "version": "3.11.13"
  }
 },
 "nbformat": 4,
 "nbformat_minor": 5
}
