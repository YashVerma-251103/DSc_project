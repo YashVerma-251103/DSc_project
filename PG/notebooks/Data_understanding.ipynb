{
 "cells": [
  {
   "cell_type": "code",
   "execution_count": 1,
   "id": "961d8a44",
   "metadata": {},
   "outputs": [],
   "source": [
    "import pandas as pd\n",
    "import numpy as np\n",
    "import os\n",
    "import matplotlib.pyplot as plt\n",
    "import seaborn as sns\n",
    "sns.set(style='whitegrid')"
   ]
  },
  {
   "cell_type": "code",
   "execution_count": 2,
   "id": "7e9664dd",
   "metadata": {},
   "outputs": [
    {
     "name": "stdout",
     "output_type": "stream",
     "text": [
      "Files detected: 8 → ['Friday-WorkingHours-Afternoon-DDos.pcap_ISCX.csv', 'Friday-WorkingHours-Afternoon-PortScan.pcap_ISCX.csv', 'Friday-WorkingHours-Morning.pcap_ISCX.csv']\n",
      "Reading Friday-WorkingHours-Afternoon-DDos.pcap_ISCX.csv ...\n",
      "Reading Friday-WorkingHours-Afternoon-PortScan.pcap_ISCX.csv ...\n",
      "Combined shape: (512212, 80)\n"
     ]
    }
   ],
   "source": [
    "# Step 1: Define Path and Read Sample Files\n",
    "data_path = '../data/'\n",
    "files = [f for f in os.listdir(data_path) if f.endswith('.csv')]\n",
    "print(\"Files detected:\", len(files), \"→\", files[:3])\n",
    "\n",
    "# Read first 2 files (to keep it quick)\n",
    "sample_files = files[:2]\n",
    "df_list = []\n",
    "for f in sample_files:\n",
    "    print(f\"Reading {f} ...\")\n",
    "    df_temp = pd.read_csv(os.path.join(data_path, f), low_memory=False)\n",
    "    df_temp['__source'] = f\n",
    "    df_list.append(df_temp)\n",
    "\n",
    "df = pd.concat(df_list, ignore_index=True)\n",
    "print(\"Combined shape:\", df.shape)"
   ]
  },
  {
   "cell_type": "code",
   "execution_count": 3,
   "id": "07610f9a",
   "metadata": {},
   "outputs": [
    {
     "name": "stdout",
     "output_type": "stream",
     "text": [
      "\n",
      "--- Basic Info ---\n",
      "\n",
      "<class 'pandas.core.frame.DataFrame'>\n",
      "RangeIndex: 512212 entries, 0 to 512211\n",
      "Data columns (total 80 columns):\n",
      " #   Column                        Non-Null Count   Dtype  \n",
      "---  ------                        --------------   -----  \n",
      " 0    Destination Port             512212 non-null  int64  \n",
      " 1    Flow Duration                512212 non-null  int64  \n",
      " 2    Total Fwd Packets            512212 non-null  int64  \n",
      " 3    Total Backward Packets       512212 non-null  int64  \n",
      " 4   Total Length of Fwd Packets   512212 non-null  int64  \n",
      " 5    Total Length of Bwd Packets  512212 non-null  int64  \n",
      " 6    Fwd Packet Length Max        512212 non-null  int64  \n",
      " 7    Fwd Packet Length Min        512212 non-null  int64  \n",
      " 8    Fwd Packet Length Mean       512212 non-null  float64\n",
      " 9    Fwd Packet Length Std        512212 non-null  float64\n",
      " 10  Bwd Packet Length Max         512212 non-null  int64  \n",
      " 11   Bwd Packet Length Min        512212 non-null  int64  \n",
      " 12   Bwd Packet Length Mean       512212 non-null  float64\n",
      " 13   Bwd Packet Length Std        512212 non-null  float64\n",
      " 14  Flow Bytes/s                  512193 non-null  float64\n",
      " 15   Flow Packets/s               512212 non-null  float64\n",
      " 16   Flow IAT Mean                512212 non-null  float64\n",
      " 17   Flow IAT Std                 512212 non-null  float64\n",
      " 18   Flow IAT Max                 512212 non-null  int64  \n",
      " 19   Flow IAT Min                 512212 non-null  int64  \n",
      " 20  Fwd IAT Total                 512212 non-null  int64  \n",
      " 21   Fwd IAT Mean                 512212 non-null  float64\n",
      " 22   Fwd IAT Std                  512212 non-null  float64\n",
      " 23   Fwd IAT Max                  512212 non-null  int64  \n",
      " 24   Fwd IAT Min                  512212 non-null  int64  \n",
      " 25  Bwd IAT Total                 512212 non-null  int64  \n",
      " 26   Bwd IAT Mean                 512212 non-null  float64\n",
      " 27   Bwd IAT Std                  512212 non-null  float64\n",
      " 28   Bwd IAT Max                  512212 non-null  int64  \n",
      " 29   Bwd IAT Min                  512212 non-null  int64  \n",
      " 30  Fwd PSH Flags                 512212 non-null  int64  \n",
      " 31   Bwd PSH Flags                512212 non-null  int64  \n",
      " 32   Fwd URG Flags                512212 non-null  int64  \n",
      " 33   Bwd URG Flags                512212 non-null  int64  \n",
      " 34   Fwd Header Length            512212 non-null  int64  \n",
      " 35   Bwd Header Length            512212 non-null  int64  \n",
      " 36  Fwd Packets/s                 512212 non-null  float64\n",
      " 37   Bwd Packets/s                512212 non-null  float64\n",
      " 38   Min Packet Length            512212 non-null  int64  \n",
      " 39   Max Packet Length            512212 non-null  int64  \n",
      " 40   Packet Length Mean           512212 non-null  float64\n",
      " 41   Packet Length Std            512212 non-null  float64\n",
      " 42   Packet Length Variance       512212 non-null  float64\n",
      " 43  FIN Flag Count                512212 non-null  int64  \n",
      " 44   SYN Flag Count               512212 non-null  int64  \n",
      " 45   RST Flag Count               512212 non-null  int64  \n",
      " 46   PSH Flag Count               512212 non-null  int64  \n",
      " 47   ACK Flag Count               512212 non-null  int64  \n",
      " 48   URG Flag Count               512212 non-null  int64  \n",
      " 49   CWE Flag Count               512212 non-null  int64  \n",
      " 50   ECE Flag Count               512212 non-null  int64  \n",
      " 51   Down/Up Ratio                512212 non-null  int64  \n",
      " 52   Average Packet Size          512212 non-null  float64\n",
      " 53   Avg Fwd Segment Size         512212 non-null  float64\n",
      " 54   Avg Bwd Segment Size         512212 non-null  float64\n",
      " 55   Fwd Header Length.1          512212 non-null  int64  \n",
      " 56  Fwd Avg Bytes/Bulk            512212 non-null  int64  \n",
      " 57   Fwd Avg Packets/Bulk         512212 non-null  int64  \n",
      " 58   Fwd Avg Bulk Rate            512212 non-null  int64  \n",
      " 59   Bwd Avg Bytes/Bulk           512212 non-null  int64  \n",
      " 60   Bwd Avg Packets/Bulk         512212 non-null  int64  \n",
      " 61  Bwd Avg Bulk Rate             512212 non-null  int64  \n",
      " 62  Subflow Fwd Packets           512212 non-null  int64  \n",
      " 63   Subflow Fwd Bytes            512212 non-null  int64  \n",
      " 64   Subflow Bwd Packets          512212 non-null  int64  \n",
      " 65   Subflow Bwd Bytes            512212 non-null  int64  \n",
      " 66  Init_Win_bytes_forward        512212 non-null  int64  \n",
      " 67   Init_Win_bytes_backward      512212 non-null  int64  \n",
      " 68   act_data_pkt_fwd             512212 non-null  int64  \n",
      " 69   min_seg_size_forward         512212 non-null  int64  \n",
      " 70  Active Mean                   512212 non-null  float64\n",
      " 71   Active Std                   512212 non-null  float64\n",
      " 72   Active Max                   512212 non-null  int64  \n",
      " 73   Active Min                   512212 non-null  int64  \n",
      " 74  Idle Mean                     512212 non-null  float64\n",
      " 75   Idle Std                     512212 non-null  float64\n",
      " 76   Idle Max                     512212 non-null  int64  \n",
      " 77   Idle Min                     512212 non-null  int64  \n",
      " 78   Label                        512212 non-null  object \n",
      " 79  __source                      512212 non-null  object \n",
      "dtypes: float64(24), int64(54), object(2)\n",
      "memory usage: 312.6+ MB\n",
      "None\n",
      "\n",
      "Columns:\n",
      " [' Destination Port', ' Flow Duration', ' Total Fwd Packets', ' Total Backward Packets', 'Total Length of Fwd Packets', ' Total Length of Bwd Packets', ' Fwd Packet Length Max', ' Fwd Packet Length Min', ' Fwd Packet Length Mean', ' Fwd Packet Length Std', 'Bwd Packet Length Max', ' Bwd Packet Length Min', ' Bwd Packet Length Mean', ' Bwd Packet Length Std', 'Flow Bytes/s']\n"
     ]
    }
   ],
   "source": [
    "# Step 2: Initial Inspection\n",
    "print(\"\\n--- Basic Info ---\\n\")\n",
    "print(df.info())\n",
    "print(\"\\nColumns:\\n\", df.columns.tolist()[:15])"
   ]
  },
  {
   "cell_type": "code",
   "execution_count": 4,
   "id": "a2d1185a",
   "metadata": {},
   "outputs": [
    {
     "name": "stdout",
     "output_type": "stream",
     "text": [
      "\n",
      "--- Summary Statistics (sample) ---\n",
      "\n"
     ]
    },
    {
     "name": "stderr",
     "output_type": "stream",
     "text": [
      "q:\\MiniConda\\envs\\dsc\\Lib\\site-packages\\pandas\\core\\nanops.py:1016: RuntimeWarning: invalid value encountered in subtract\n",
      "  sqr = _ensure_numeric((avg - values) ** 2)\n",
      "q:\\MiniConda\\envs\\dsc\\Lib\\site-packages\\pandas\\core\\nanops.py:1016: RuntimeWarning: invalid value encountered in subtract\n",
      "  sqr = _ensure_numeric((avg - values) ** 2)\n"
     ]
    },
    {
     "data": {
      "application/vnd.microsoft.datawrangler.viewer.v0+json": {
       "columns": [
        {
         "name": "index",
         "rawType": "object",
         "type": "string"
        },
        {
         "name": "count",
         "rawType": "object",
         "type": "unknown"
        },
        {
         "name": "unique",
         "rawType": "object",
         "type": "unknown"
        },
        {
         "name": "top",
         "rawType": "object",
         "type": "unknown"
        },
        {
         "name": "freq",
         "rawType": "object",
         "type": "unknown"
        },
        {
         "name": "mean",
         "rawType": "object",
         "type": "unknown"
        },
        {
         "name": "std",
         "rawType": "object",
         "type": "unknown"
        },
        {
         "name": "min",
         "rawType": "object",
         "type": "unknown"
        },
        {
         "name": "25%",
         "rawType": "object",
         "type": "unknown"
        },
        {
         "name": "50%",
         "rawType": "object",
         "type": "unknown"
        },
        {
         "name": "75%",
         "rawType": "object",
         "type": "unknown"
        },
        {
         "name": "max",
         "rawType": "object",
         "type": "unknown"
        }
       ],
       "ref": "c2c7edd6-3057-432f-9545-963ab7e4ca1a",
       "rows": [
        [
         " Destination Port",
         "512212.0",
         null,
         null,
         null,
         "8412.769089751899",
         "17447.963842525824",
         "0.0",
         "80.0",
         "146.0",
         "5544.0",
         "65532.0"
        ],
        [
         " Flow Duration",
         "512212.0",
         null,
         null,
         null,
         "10166633.441043943",
         "27127138.689988676",
         "-13.0",
         "55.0",
         "30276.0",
         "2033680.75",
         "119999949.0"
        ],
        [
         " Total Fwd Packets",
         "512212.0",
         null,
         null,
         null,
         "4.091018953089736",
         "17.841275110976284",
         "1.0",
         "1.0",
         "2.0",
         "4.0",
         "3119.0"
        ],
        [
         " Total Backward Packets",
         "512212.0",
         null,
         null,
         null,
         "3.9842643280516663",
         "25.620921173188112",
         "0.0",
         "1.0",
         "1.0",
         "4.0",
         "3635.0"
        ],
        [
         "Total Length of Fwd Packets",
         "512212.0",
         null,
         null,
         null,
         "544.5845606897144",
         "2592.815800376788",
         "0.0",
         "2.0",
         "26.0",
         "62.0",
         "232349.0"
        ],
        [
         " Total Length of Bwd Packets",
         "512212.0",
         null,
         null,
         null,
         "4141.029204704302",
         "46193.97573532228",
         "0.0",
         "6.0",
         "6.0",
         "350.0",
         "7150819.0"
        ],
        [
         " Fwd Packet Length Max",
         "512212.0",
         null,
         null,
         null,
         "282.66640765932857",
         "1281.867186211669",
         "0.0",
         "2.0",
         "6.0",
         "36.0",
         "13929.0"
        ],
        [
         " Fwd Packet Length Min",
         "512212.0",
         null,
         null,
         null,
         "18.07802628599096",
         "110.2748248544074",
         "0.0",
         "0.0",
         "2.0",
         "6.0",
         "1472.0"
        ],
        [
         " Fwd Packet Length Mean",
         "512212.0",
         null,
         null,
         null,
         "86.14351922278681",
         "347.3656491156448",
         "0.0",
         "2.0",
         "6.0",
         "33.0",
         "3867.0"
        ],
        [
         " Fwd Packet Length Std",
         "512212.0",
         null,
         null,
         null,
         "108.46825858022754",
         "544.8425378474278",
         "0.0",
         "0.0",
         "0.0",
         "6.094494002",
         "6692.644993"
        ]
       ],
       "shape": {
        "columns": 11,
        "rows": 10
       }
      },
      "text/html": [
       "<div>\n",
       "<style scoped>\n",
       "    .dataframe tbody tr th:only-of-type {\n",
       "        vertical-align: middle;\n",
       "    }\n",
       "\n",
       "    .dataframe tbody tr th {\n",
       "        vertical-align: top;\n",
       "    }\n",
       "\n",
       "    .dataframe thead th {\n",
       "        text-align: right;\n",
       "    }\n",
       "</style>\n",
       "<table border=\"1\" class=\"dataframe\">\n",
       "  <thead>\n",
       "    <tr style=\"text-align: right;\">\n",
       "      <th></th>\n",
       "      <th>count</th>\n",
       "      <th>unique</th>\n",
       "      <th>top</th>\n",
       "      <th>freq</th>\n",
       "      <th>mean</th>\n",
       "      <th>std</th>\n",
       "      <th>min</th>\n",
       "      <th>25%</th>\n",
       "      <th>50%</th>\n",
       "      <th>75%</th>\n",
       "      <th>max</th>\n",
       "    </tr>\n",
       "  </thead>\n",
       "  <tbody>\n",
       "    <tr>\n",
       "      <th>Destination Port</th>\n",
       "      <td>512212.0</td>\n",
       "      <td>NaN</td>\n",
       "      <td>NaN</td>\n",
       "      <td>NaN</td>\n",
       "      <td>8412.76909</td>\n",
       "      <td>17447.963843</td>\n",
       "      <td>0.0</td>\n",
       "      <td>80.0</td>\n",
       "      <td>146.0</td>\n",
       "      <td>5544.0</td>\n",
       "      <td>65532.0</td>\n",
       "    </tr>\n",
       "    <tr>\n",
       "      <th>Flow Duration</th>\n",
       "      <td>512212.0</td>\n",
       "      <td>NaN</td>\n",
       "      <td>NaN</td>\n",
       "      <td>NaN</td>\n",
       "      <td>10166633.441044</td>\n",
       "      <td>27127138.689989</td>\n",
       "      <td>-13.0</td>\n",
       "      <td>55.0</td>\n",
       "      <td>30276.0</td>\n",
       "      <td>2033680.75</td>\n",
       "      <td>119999949.0</td>\n",
       "    </tr>\n",
       "    <tr>\n",
       "      <th>Total Fwd Packets</th>\n",
       "      <td>512212.0</td>\n",
       "      <td>NaN</td>\n",
       "      <td>NaN</td>\n",
       "      <td>NaN</td>\n",
       "      <td>4.091019</td>\n",
       "      <td>17.841275</td>\n",
       "      <td>1.0</td>\n",
       "      <td>1.0</td>\n",
       "      <td>2.0</td>\n",
       "      <td>4.0</td>\n",
       "      <td>3119.0</td>\n",
       "    </tr>\n",
       "    <tr>\n",
       "      <th>Total Backward Packets</th>\n",
       "      <td>512212.0</td>\n",
       "      <td>NaN</td>\n",
       "      <td>NaN</td>\n",
       "      <td>NaN</td>\n",
       "      <td>3.984264</td>\n",
       "      <td>25.620921</td>\n",
       "      <td>0.0</td>\n",
       "      <td>1.0</td>\n",
       "      <td>1.0</td>\n",
       "      <td>4.0</td>\n",
       "      <td>3635.0</td>\n",
       "    </tr>\n",
       "    <tr>\n",
       "      <th>Total Length of Fwd Packets</th>\n",
       "      <td>512212.0</td>\n",
       "      <td>NaN</td>\n",
       "      <td>NaN</td>\n",
       "      <td>NaN</td>\n",
       "      <td>544.584561</td>\n",
       "      <td>2592.8158</td>\n",
       "      <td>0.0</td>\n",
       "      <td>2.0</td>\n",
       "      <td>26.0</td>\n",
       "      <td>62.0</td>\n",
       "      <td>232349.0</td>\n",
       "    </tr>\n",
       "    <tr>\n",
       "      <th>Total Length of Bwd Packets</th>\n",
       "      <td>512212.0</td>\n",
       "      <td>NaN</td>\n",
       "      <td>NaN</td>\n",
       "      <td>NaN</td>\n",
       "      <td>4141.029205</td>\n",
       "      <td>46193.975735</td>\n",
       "      <td>0.0</td>\n",
       "      <td>6.0</td>\n",
       "      <td>6.0</td>\n",
       "      <td>350.0</td>\n",
       "      <td>7150819.0</td>\n",
       "    </tr>\n",
       "    <tr>\n",
       "      <th>Fwd Packet Length Max</th>\n",
       "      <td>512212.0</td>\n",
       "      <td>NaN</td>\n",
       "      <td>NaN</td>\n",
       "      <td>NaN</td>\n",
       "      <td>282.666408</td>\n",
       "      <td>1281.867186</td>\n",
       "      <td>0.0</td>\n",
       "      <td>2.0</td>\n",
       "      <td>6.0</td>\n",
       "      <td>36.0</td>\n",
       "      <td>13929.0</td>\n",
       "    </tr>\n",
       "    <tr>\n",
       "      <th>Fwd Packet Length Min</th>\n",
       "      <td>512212.0</td>\n",
       "      <td>NaN</td>\n",
       "      <td>NaN</td>\n",
       "      <td>NaN</td>\n",
       "      <td>18.078026</td>\n",
       "      <td>110.274825</td>\n",
       "      <td>0.0</td>\n",
       "      <td>0.0</td>\n",
       "      <td>2.0</td>\n",
       "      <td>6.0</td>\n",
       "      <td>1472.0</td>\n",
       "    </tr>\n",
       "    <tr>\n",
       "      <th>Fwd Packet Length Mean</th>\n",
       "      <td>512212.0</td>\n",
       "      <td>NaN</td>\n",
       "      <td>NaN</td>\n",
       "      <td>NaN</td>\n",
       "      <td>86.143519</td>\n",
       "      <td>347.365649</td>\n",
       "      <td>0.0</td>\n",
       "      <td>2.0</td>\n",
       "      <td>6.0</td>\n",
       "      <td>33.0</td>\n",
       "      <td>3867.0</td>\n",
       "    </tr>\n",
       "    <tr>\n",
       "      <th>Fwd Packet Length Std</th>\n",
       "      <td>512212.0</td>\n",
       "      <td>NaN</td>\n",
       "      <td>NaN</td>\n",
       "      <td>NaN</td>\n",
       "      <td>108.468259</td>\n",
       "      <td>544.842538</td>\n",
       "      <td>0.0</td>\n",
       "      <td>0.0</td>\n",
       "      <td>0.0</td>\n",
       "      <td>6.094494</td>\n",
       "      <td>6692.644993</td>\n",
       "    </tr>\n",
       "  </tbody>\n",
       "</table>\n",
       "</div>"
      ],
      "text/plain": [
       "                                 count unique  top freq             mean  \\\n",
       " Destination Port             512212.0    NaN  NaN  NaN       8412.76909   \n",
       " Flow Duration                512212.0    NaN  NaN  NaN  10166633.441044   \n",
       " Total Fwd Packets            512212.0    NaN  NaN  NaN         4.091019   \n",
       " Total Backward Packets       512212.0    NaN  NaN  NaN         3.984264   \n",
       "Total Length of Fwd Packets   512212.0    NaN  NaN  NaN       544.584561   \n",
       " Total Length of Bwd Packets  512212.0    NaN  NaN  NaN      4141.029205   \n",
       " Fwd Packet Length Max        512212.0    NaN  NaN  NaN       282.666408   \n",
       " Fwd Packet Length Min        512212.0    NaN  NaN  NaN        18.078026   \n",
       " Fwd Packet Length Mean       512212.0    NaN  NaN  NaN        86.143519   \n",
       " Fwd Packet Length Std        512212.0    NaN  NaN  NaN       108.468259   \n",
       "\n",
       "                                          std   min   25%      50%  \\\n",
       " Destination Port                17447.963843   0.0  80.0    146.0   \n",
       " Flow Duration                27127138.689989 -13.0  55.0  30276.0   \n",
       " Total Fwd Packets                  17.841275   1.0   1.0      2.0   \n",
       " Total Backward Packets             25.620921   0.0   1.0      1.0   \n",
       "Total Length of Fwd Packets         2592.8158   0.0   2.0     26.0   \n",
       " Total Length of Bwd Packets     46193.975735   0.0   6.0      6.0   \n",
       " Fwd Packet Length Max            1281.867186   0.0   2.0      6.0   \n",
       " Fwd Packet Length Min             110.274825   0.0   0.0      2.0   \n",
       " Fwd Packet Length Mean            347.365649   0.0   2.0      6.0   \n",
       " Fwd Packet Length Std             544.842538   0.0   0.0      0.0   \n",
       "\n",
       "                                     75%          max  \n",
       " Destination Port                 5544.0      65532.0  \n",
       " Flow Duration                2033680.75  119999949.0  \n",
       " Total Fwd Packets                   4.0       3119.0  \n",
       " Total Backward Packets              4.0       3635.0  \n",
       "Total Length of Fwd Packets         62.0     232349.0  \n",
       " Total Length of Bwd Packets       350.0    7150819.0  \n",
       " Fwd Packet Length Max              36.0      13929.0  \n",
       " Fwd Packet Length Min               6.0       1472.0  \n",
       " Fwd Packet Length Mean             33.0       3867.0  \n",
       " Fwd Packet Length Std          6.094494  6692.644993  "
      ]
     },
     "metadata": {},
     "output_type": "display_data"
    }
   ],
   "source": [
    "# Step 3: Quick Summary Statistics (before cleaning)\n",
    "print(\"\\n--- Summary Statistics (sample) ---\\n\")\n",
    "display(df.describe(include='all').T.head(10))"
   ]
  },
  {
   "cell_type": "code",
   "execution_count": 5,
   "id": "80723a6a",
   "metadata": {},
   "outputs": [
    {
     "name": "stdout",
     "output_type": "stream",
     "text": [
      "\n",
      "Missing Values Summary:\n",
      "Flow Bytes/s    19\n",
      "dtype: int64\n",
      "\n",
      "Infinite values detected:\n",
      "Flow Bytes/s       386\n",
      " Flow Packets/s    405\n",
      "dtype: int64\n"
     ]
    }
   ],
   "source": [
    "# Step 4: Missing and Infinite Value Analysis\n",
    "missing = df.isnull().sum().sort_values(ascending=False)\n",
    "missing = missing[missing > 0]\n",
    "print(\"\\nMissing Values Summary:\")\n",
    "print(missing.head(20))\n",
    "\n",
    "# Check for inf/-inf\n",
    "inf_counts = np.isinf(df.select_dtypes(include=[np.number])).sum()\n",
    "inf_counts = inf_counts[inf_counts > 0]\n",
    "print(\"\\nInfinite values detected:\")\n",
    "print(inf_counts)"
   ]
  },
  {
   "cell_type": "code",
   "execution_count": 6,
   "id": "3c72a42c",
   "metadata": {},
   "outputs": [
    {
     "name": "stdout",
     "output_type": "stream",
     "text": [
      "\n",
      "Numeric columns: 78 | Object columns: 2\n"
     ]
    }
   ],
   "source": [
    "# Step 5: Data Type Classification\n",
    "num_cols = df.select_dtypes(include=np.number).columns.tolist()\n",
    "obj_cols = df.select_dtypes(include='object').columns.tolist()\n",
    "print(f\"\\nNumeric columns: {len(num_cols)} | Object columns: {len(obj_cols)}\")"
   ]
  },
  {
   "cell_type": "code",
   "execution_count": 7,
   "id": "cc1cecdf",
   "metadata": {},
   "outputs": [
    {
     "name": "stdout",
     "output_type": "stream",
     "text": [
      "\n",
      "Possible label columns: [' Label']\n",
      "\n",
      "Unique label values (first 20):\n",
      " Label\n",
      "BENIGN      225255\n",
      "PortScan    158930\n",
      "DDoS        128027\n",
      "Name: count, dtype: int64\n"
     ]
    }
   ],
   "source": [
    "# Step 6: Label Inspection\n",
    "label_cols = [c for c in df.columns if 'label' in c.lower()]\n",
    "print(\"\\nPossible label columns:\", label_cols)\n",
    "\n",
    "if label_cols:\n",
    "    label = label_cols[0]\n",
    "    print(\"\\nUnique label values (first 20):\")\n",
    "    print(df[label].value_counts().head(20))"
   ]
  },
  {
   "cell_type": "code",
   "execution_count": 8,
   "id": "d7b55a37",
   "metadata": {},
   "outputs": [
    {
     "name": "stderr",
     "output_type": "stream",
     "text": [
      "q:\\MiniConda\\envs\\dsc\\Lib\\site-packages\\pandas\\core\\internals\\blocks.py:395: RuntimeWarning: divide by zero encountered in log1p\n",
      "  result = func(self.values, **kwargs)\n",
      "q:\\MiniConda\\envs\\dsc\\Lib\\site-packages\\pandas\\core\\internals\\blocks.py:395: RuntimeWarning: invalid value encountered in log1p\n",
      "  result = func(self.values, **kwargs)\n"
     ]
    },
    {
     "data": {
      "image/png": "[encoded data removed]",
      "text/plain": [
       "<Figure size 640x480 with 1 Axes>"
      ]
     },
     "metadata": {},
     "output_type": "display_data"
    }
   ],
   "source": [
    "# Step 7: Outlier Glance on Numeric Features\n",
    "numeric_sample = df.select_dtypes(include=np.number).iloc[:, :5]\n",
    "sns.boxplot(data=np.log1p(numeric_sample))\n",
    "plt.title(\"Log-Transformed Outlier Glance (sample features)\")\n",
    "plt.xticks(rotation=45)\n",
    "plt.tight_layout()\n",
    "plt.show()"
   ]
  },
  {
   "cell_type": "code",
   "execution_count": 9,
   "id": "2cd0fef2",
   "metadata": {},
   "outputs": [
    {
     "name": "stdout",
     "output_type": "stream",
     "text": [
      "\n",
      "No Flow ID column detected or not standardised.\n"
     ]
    }
   ],
   "source": [
    "# Step 8: Check for Duplicate Flow IDs (if exist)\n",
    "flow_cols = [c for c in df.columns if 'flow id' in c.lower()]\n",
    "if flow_cols:\n",
    "    flow_col = flow_cols[0]\n",
    "    dup_count = df[flow_col].duplicated().sum()\n",
    "    print(f\"\\nDuplicate Flow IDs detected: {dup_count}\")\n",
    "else:\n",
    "    print(\"\\nNo Flow ID column detected or not standardised.\")"
   ]
  },
  {
   "cell_type": "code",
   "execution_count": 10,
   "id": "cf35fef2",
   "metadata": {},
   "outputs": [
    {
     "name": "stdout",
     "output_type": "stream",
     "text": [
      "\n",
      "Approximate Benign percentage: 43.98%\n"
     ]
    }
   ],
   "source": [
    "# Step 9: Class Balance Estimation (Raw)\n",
    "if label_cols:\n",
    "    label = label_cols[0]\n",
    "    benign_count = df[df[label].str.contains('BENIGN', case=False, na=False)].shape[0]\n",
    "    total = df.shape[0]\n",
    "    print(f\"\\nApproximate Benign percentage: {round((benign_count/total)*100, 2)}%\")"
   ]
  },
  {
   "cell_type": "code",
   "execution_count": 11,
   "id": "5201941d",
   "metadata": {},
   "outputs": [
    {
     "name": "stdout",
     "output_type": "stream",
     "text": [
      "✅ Saved raw dataset profiling summary to outputs/data_understanding_summary.csv\n"
     ]
    }
   ],
   "source": [
    "# Step 10: Save Profiling Summary\n",
    "summary = {\n",
    "    \"total_rows\": df.shape[0],\n",
    "    \"total_columns\": df.shape[1],\n",
    "    \"num_numeric\": len(num_cols),\n",
    "    \"num_object\": len(obj_cols),\n",
    "    \"missing_columns\": len(missing),\n",
    "    \"has_inf_values\": len(inf_counts),\n",
    "    \"sample_files_analyzed\": sample_files\n",
    "}\n",
    "pd.DataFrame([summary]).to_csv('../outputs/data_understanding_summary.csv', index=False)\n",
    "print(\"✅ Saved raw dataset profiling summary to outputs/data_understanding_summary.csv\")\n"
   ]
  }
 ],
 "metadata": {
  "kernelspec": {
   "display_name": "dsc",
   "language": "python",
   "name": "python3"
  },
  "language_info": {
   "codemirror_mode": {
    "name": "ipython",
    "version": 3
   },
   "file_extension": ".py",
   "mimetype": "text/x-python",
   "name": "python",
   "nbconvert_exporter": "python",
   "pygments_lexer": "ipython3",
   "version": "3.11.13"
  }
 },
 "nbformat": 4,
 "nbformat_minor": 5
}
